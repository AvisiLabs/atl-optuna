{
 "cells": [
  {
   "cell_type": "code",
   "execution_count": null,
   "id": "9e4c4c32-c9b6-4efe-85fb-cef9eb42bf8a",
   "metadata": {},
   "outputs": [],
   "source": [
    "%pip install pandas\n",
    "%pip install numpy\n",
    "%pip install sklearn\n",
    "%pip install optuna\n",
    "%pip install matplotlib"
   ]
  },
  {
   "cell_type": "code",
   "execution_count": null,
   "id": "6e856e10-5834-49e3-a81f-551ea255d331",
   "metadata": {},
   "outputs": [],
   "source": [
    "import pandas as pd\n",
    "import numpy as np\n",
    "import sklearn\n",
    "import tensorflow as tf\n",
    "import math\n",
    "\n",
    "from sklearn.model_selection import train_test_split\n",
    "from tensorflow import keras\n",
    "from tensorflow.keras import layers, datasets\n",
    "from matplotlib import pyplot as plt"
   ]
  },
  {
   "cell_type": "code",
   "execution_count": null,
   "id": "13c13944-992a-4b13-b536-d4c4b669a8a5",
   "metadata": {},
   "outputs": [],
   "source": [
    "import optuna\n",
    "\n",
    "from optuna.integration import TFKerasPruningCallback\n",
    "from optuna.trial import TrialState\n",
    "from optuna.visualization import plot_contour\n",
    "from optuna.visualization import plot_edf\n",
    "from optuna.visualization import plot_intermediate_values\n",
    "from optuna.visualization import plot_optimization_history\n",
    "from optuna.visualization import plot_parallel_coordinate\n",
    "from optuna.visualization import plot_param_importances\n",
    "from optuna.visualization import plot_slice"
   ]
  },
  {
   "cell_type": "code",
   "execution_count": null,
   "id": "d1aba27a-9245-46c1-8dce-0c3b36f38166",
   "metadata": {},
   "outputs": [],
   "source": [
    "(train_images, train_labels), (val_images, val_labels) = datasets.cifar10.load_data()\n",
    "print(train_images.shape)\n",
    "print(val_images.shape)"
   ]
  },
  {
   "cell_type": "code",
   "execution_count": null,
   "id": "46024078-064c-4ea2-9a72-4128706192f6",
   "metadata": {},
   "outputs": [],
   "source": [
    "train_images, test_images, train_labels, test_labels = train_test_split(\n",
    "    train_images, train_labels, test_size=0.2, random_state=1337)\n",
    "\n",
    "print(train_images.shape)\n",
    "print(train_labels.shape)\n",
    "print(val_images.shape)\n",
    "print(val_labels.shape)\n",
    "print(test_images.shape)\n",
    "print(test_labels.shape)"
   ]
  },
  {
   "cell_type": "code",
   "execution_count": null,
   "id": "98f45dfb-f42b-4334-916c-d34aff9bccae",
   "metadata": {},
   "outputs": [],
   "source": [
    "train_labels = keras.utils.to_categorical(train_labels)\n",
    "val_labels = keras.utils.to_categorical(val_labels)\n",
    "test_labels = keras.utils.to_categorical(test_labels)\n",
    "\n",
    "train_images = train_images.astype('float32')\n",
    "val_images = val_images.astype('float32')\n",
    "test_images = test_images.astype('float32')\n",
    "train_images = train_images / 255.0\n",
    "val_images = val_images / 255.0\n",
    "test_images = test_images / 255.0"
   ]
  },
  {
   "cell_type": "code",
   "execution_count": null,
   "id": "e692483f-1906-4daf-81ff-a3c71ec97c8b",
   "metadata": {},
   "outputs": [],
   "source": [
    "def create_model(trial):\n",
    "    metrics = [\n",
    "        \"accuracy\"\n",
    "    ]\n",
    "    \n",
    "    dense_layers = trial.suggest_int(\"dense_layers\", 1, 5)\n",
    "    conv_layers = trial.suggest_int(\"conv_layers\", 1, 5)\n",
    "    dense_nodes = trial.suggest_categorical(\"dense_nodes\", [512, 256, 128, 64, 32])\n",
    "    conv_filters = trial.suggest_categorical(\"conv_filters\", [64,32,16,8])\n",
    "    \n",
    "    model = keras.Sequential()\n",
    "    model.add(layers.Input((32,32,3)))\n",
    "    model.add(layers.Conv2D(conv_filters, (3,3), activation=\"relu\", padding=\"same\"))\n",
    "    for i in range(1, conv_layers):\n",
    "        model.add(layers.MaxPooling2D())\n",
    "        model.add(layers.BatchNormalization())\n",
    "        model.add(layers.Dropout(0.2))\n",
    "        model.add(layers.Conv2D(conv_filters * (2**i), (3,3), activation=\"relu\", padding=\"same\"))\n",
    "    model.add(layers.Flatten())\n",
    "    model.add(layers.Dense(dense_nodes, activation=\"relu\"))\n",
    "    for i in range(1, dense_layers):\n",
    "        model.add(layers.Dense(dense_nodes / 2**(math.ceil(i/2)), activation=\"relu\"))\n",
    "        if i % 2 == 0:\n",
    "            model.add(layers.Dropout(0.2))\n",
    "    model.add(layers.Dense(10, activation = \"softmax\"))\n",
    "\n",
    "    loss = keras.losses.CategoricalCrossentropy()\n",
    "    model.compile(loss = loss, optimizer = keras.optimizers.Adam(), metrics = metrics)\n",
    "    return model"
   ]
  },
  {
   "cell_type": "code",
   "execution_count": null,
   "id": "23a25fab-cb5c-4c39-9561-4adbc61d0b0d",
   "metadata": {},
   "outputs": [],
   "source": [
    "def objective(trial):\n",
    "    keras.backend.clear_session()\n",
    "    model = create_model(trial)\n",
    "    reduce_lr_callback = keras.callbacks.ReduceLROnPlateau(\n",
    "        monitor=\"val_loss\", factor=0.5, patience=5, min_lr=0.00001\n",
    "    )\n",
    "    callbacks = [\n",
    "        TFKerasPruningCallback(trial, \"val_loss\"),\n",
    "        reduce_lr_callback\n",
    "    ]\n",
    "    \n",
    "    history = model.fit(\n",
    "        train_images,\n",
    "        train_labels,\n",
    "        epochs=20,\n",
    "        batch_size=64,\n",
    "        validation_data=(val_images, val_labels),\n",
    "        callbacks=callbacks\n",
    "    )\n",
    "    \n",
    "    return history.history[\"val_loss\"][-1]"
   ]
  },
  {
   "cell_type": "code",
   "execution_count": null,
   "id": "1aa57f19-f48b-497e-8857-80439d306c54",
   "metadata": {},
   "outputs": [],
   "source": [
    "study = optuna.create_study(\n",
    "    direction = \"minimize\", \n",
    "    study_name=\"test29\",\n",
    "    storage=\"sqlite:///example.db\",\n",
    "    pruner=optuna.pruners.MedianPruner(\n",
    "        n_startup_trials=5, n_warmup_steps=10, interval_steps = 5\n",
    "    ),\n",
    "    sampler=optuna.samplers.TPESampler(\n",
    "        n_startup_trials=5\n",
    "    )\n",
    ")\n",
    "study.optimize(objective, n_trials=80)"
   ]
  },
  {
   "cell_type": "code",
   "execution_count": null,
   "id": "d185b217-696c-4395-8758-75b13f342f32",
   "metadata": {},
   "outputs": [],
   "source": [
    "def show_result(study):\n",
    "\n",
    "    pruned_trials = study.get_trials(deepcopy=False, states=[TrialState.PRUNED])\n",
    "    complete_trials = study.get_trials(deepcopy=False, states=[TrialState.COMPLETE])\n",
    "\n",
    "    print(\"Study statistics: \")\n",
    "    print(\"  Number of finished trials: \", len(study.trials))\n",
    "    print(\"  Number of pruned trials: \", len(pruned_trials))\n",
    "    print(\"  Number of complete trials: \", len(complete_trials))\n",
    "\n",
    "    print(\"Best trial:\")\n",
    "    trial = study.best_trial\n",
    "\n",
    "    print(\"  Value: \", trial.value)\n",
    "\n",
    "    print(\"  Params: \")\n",
    "    for key, value in trial.params.items():\n",
    "        print(\"    {}: {}\".format(key, value))\n"
   ]
  },
  {
   "cell_type": "code",
   "execution_count": null,
   "id": "15c04ade-dc83-436a-b905-17b5dc32987d",
   "metadata": {},
   "outputs": [],
   "source": [
    "show_result(study)"
   ]
  }
 ],
 "metadata": {
  "kernelspec": {
   "display_name": "Python 3 (ipykernel)",
   "language": "python",
   "name": "python3"
  },
  "language_info": {
   "codemirror_mode": {
    "name": "ipython",
    "version": 3
   },
   "file_extension": ".py",
   "mimetype": "text/x-python",
   "name": "python",
   "nbconvert_exporter": "python",
   "pygments_lexer": "ipython3",
   "version": "3.9.7"
  }
 },
 "nbformat": 4,
 "nbformat_minor": 5
}
